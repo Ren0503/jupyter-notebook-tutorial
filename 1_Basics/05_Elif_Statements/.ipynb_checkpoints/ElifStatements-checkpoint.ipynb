{
 "cells": [
  {
   "cell_type": "markdown",
   "id": "32085f0a",
   "metadata": {},
   "source": [
    "# Elif Statements\n",
    "**elif** là viết gọn của else if, nó cho phép chúng ta kiểm tra nhiều điều kiện.\n",
    "\n",
    "Nếu điều kiện là sai, nó sẽ kiểm tra điều kiện của khối elif tiếp theo và cứ như vậy cho đến hết. \n",
    "\n",
    "Elif là tuỳ chọn, nhưng không giống if và else có thể có nhiều lệnh elif."
   ]
  },
  {
   "cell_type": "code",
   "execution_count": 1,
   "id": "5c9ee29f",
   "metadata": {},
   "outputs": [
    {
     "name": "stdout",
     "output_type": "stream",
     "text": [
      "num = 21\n"
     ]
    }
   ],
   "source": [
    "num = 21\n",
    "if num > 50:\n",
    "    print('num is larger than 50')\n",
    "elif num == 21:\n",
    "    print('num = 21')\n",
    "else:\n",
    "    print('Catchall condition')"
   ]
  },
  {
   "cell_type": "code",
   "execution_count": 2,
   "id": "7673a93e",
   "metadata": {},
   "outputs": [
    {
     "name": "stdout",
     "output_type": "stream",
     "text": [
      "Your number is odd\n"
     ]
    }
   ],
   "source": [
    "my_num = 5\n",
    "if my_num % 2 == 0:\n",
    "    print(\"Your number is even\")\n",
    "elif my_num % 2 != 0:\n",
    "    print(\"Your number is odd\")\n",
    "else: \n",
    "    print(\"Are you sure your number is an integer?\")"
   ]
  },
  {
   "cell_type": "code",
   "execution_count": 3,
   "id": "e5adced9",
   "metadata": {},
   "outputs": [
    {
     "name": "stdout",
     "output_type": "stream",
     "text": [
      "You rolled a 5. Great job!\n"
     ]
    }
   ],
   "source": [
    "# sử dụng nhiều lệnh elif\n",
    "dice_value = 5\n",
    "if dice_value == 1:\n",
    "    print('You rolled a {}. Great job!'.format(dice_value))\n",
    "elif dice_value == 2:\n",
    "    print('You rolled a {}. Great job!'.format(dice_value))\n",
    "elif dice_value == 3:\n",
    "    print('You rolled a {}. Great job!'.format(dice_value))\n",
    "elif dice_value == 4:\n",
    "    print('You rolled a {}. Great job!'.format(dice_value))\n",
    "elif dice_value == 5:\n",
    "    print('You rolled a {}. Great job!'.format(dice_value))\n",
    "elif dice_value == 6:\n",
    "    print('You rolled a {}. Great job!'.format(dice_value))\n",
    "else:\n",
    "    print('None of the conditions above (if elif) were evaluated as True')"
   ]
  },
  {
   "cell_type": "code",
   "execution_count": null,
   "id": "b33c675b",
   "metadata": {},
   "outputs": [],
   "source": []
  }
 ],
 "metadata": {
  "kernelspec": {
   "display_name": "Python 3 (ipykernel)",
   "language": "python",
   "name": "python3"
  },
  "language_info": {
   "codemirror_mode": {
    "name": "ipython",
    "version": 3
   },
   "file_extension": ".py",
   "mimetype": "text/x-python",
   "name": "python",
   "nbconvert_exporter": "python",
   "pygments_lexer": "ipython3",
   "version": "3.8.5"
  }
 },
 "nbformat": 4,
 "nbformat_minor": 5
}
