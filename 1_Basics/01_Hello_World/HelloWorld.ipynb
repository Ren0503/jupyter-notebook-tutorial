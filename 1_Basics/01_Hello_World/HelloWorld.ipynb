{
 "cells": [
  {
   "cell_type": "markdown",
   "id": "33cdfb8f",
   "metadata": {},
   "source": [
    "# Python Hello World with Jupyter Notebook"
   ]
  },
  {
   "cell_type": "markdown",
   "id": "baf572b2",
   "metadata": {},
   "source": [
    "## Basic Types"
   ]
  },
  {
   "cell_type": "code",
   "execution_count": 1,
   "id": "eb52e81c",
   "metadata": {},
   "outputs": [
    {
     "name": "stdout",
     "output_type": "stream",
     "text": [
      "Hello World!\n"
     ]
    }
   ],
   "source": [
    "# Dòng này là comment\n",
    "print('Hello World!')"
   ]
  },
  {
   "cell_type": "code",
   "execution_count": 2,
   "id": "157b7c7c",
   "metadata": {},
   "outputs": [
    {
     "name": "stdout",
     "output_type": "stream",
     "text": [
      "Hello World!\n"
     ]
    }
   ],
   "source": [
    "# Chuỗi có thể kết thúc bởi ', \", hoặc \"\"\"\n",
    "print(\"Hello World!\")"
   ]
  },
  {
   "cell_type": "code",
   "execution_count": 3,
   "id": "bf30c5ef",
   "metadata": {},
   "outputs": [],
   "source": [
    "# \\ được gọi là \"escape character\".\n",
    "# Có khá nhiều escape character đặc biệt\n",
    "# Ví dụ như: \\t (tab)\n",
    "#             \\n (xuống dòng)"
   ]
  },
  {
   "cell_type": "code",
   "execution_count": 4,
   "id": "3ef8f5c6",
   "metadata": {},
   "outputs": [
    {
     "name": "stdout",
     "output_type": "stream",
     "text": [
      "Đây \n",
      " là dòng mới\n"
     ]
    }
   ],
   "source": [
    "print(\"Đây \\n là dòng mới\")"
   ]
  },
  {
   "cell_type": "code",
   "execution_count": 5,
   "id": "5e48c0ea",
   "metadata": {},
   "outputs": [
    {
     "name": "stdout",
     "output_type": "stream",
     "text": [
      "Đây \t là tab\n"
     ]
    }
   ],
   "source": [
    "print(\"Đây \\t là tab\")"
   ]
  },
  {
   "cell_type": "code",
   "execution_count": 6,
   "id": "13fb3330",
   "metadata": {},
   "outputs": [
    {
     "name": "stdout",
     "output_type": "stream",
     "text": [
      "Đây là chuỗi được đóng bằng \"\" không phải '' \n"
     ]
    }
   ],
   "source": [
    "# Sử dụng \\ để tránh vô tình đóng chuỗi bằng \"\n",
    "print(\"Đây là chuỗi được đóng bằng \\\"\\\" không phải '' \")"
   ]
  },
  {
   "cell_type": "code",
   "execution_count": 7,
   "id": "bbb02e4e",
   "metadata": {},
   "outputs": [
    {
     "name": "stdout",
     "output_type": "stream",
     "text": [
      "Hello World\n"
     ]
    }
   ],
   "source": [
    "# Tạo biến\n",
    "# Biến dùng để lưu trữ thông tin được tham chiếu\n",
    "# và sử dụng trong chương trình máy tính.\n",
    "\n",
    "firstVariable = 'Hello World'\n",
    "print(firstVariable)"
   ]
  },
  {
   "cell_type": "markdown",
   "id": "aec2fb8c",
   "metadata": {},
   "source": [
    "## String"
   ]
  },
  {
   "cell_type": "code",
   "execution_count": 8,
   "id": "d19d80b8",
   "metadata": {},
   "outputs": [
    {
     "name": "stdout",
     "output_type": "stream",
     "text": [
      "hello world\n",
      "HELLO WORLD\n",
      "Hello World\n"
     ]
    }
   ],
   "source": [
    "print(firstVariable.lower())\n",
    "print(firstVariable.upper())\n",
    "print(firstVariable.title())"
   ]
  },
  {
   "cell_type": "code",
   "execution_count": 9,
   "id": "63965c6d",
   "metadata": {},
   "outputs": [],
   "source": [
    "# Sử dụng ? nếu bạn muốn biết chức năng \n",
    "# của từng phương pháp\n",
    "firstVariable.lower?"
   ]
  },
  {
   "cell_type": "code",
   "execution_count": 10,
   "id": "c7d9d03a",
   "metadata": {},
   "outputs": [
    {
     "data": {
      "text/plain": [
       "['Hello', 'World']"
      ]
     },
     "execution_count": 10,
     "metadata": {},
     "output_type": "execute_result"
    }
   ],
   "source": [
    "firstVariable.split(' ')"
   ]
  },
  {
   "cell_type": "code",
   "execution_count": 11,
   "id": "80fb8d94",
   "metadata": {},
   "outputs": [
    {
     "data": {
      "text/plain": [
       "['Hello', 'World']"
      ]
     },
     "execution_count": 11,
     "metadata": {},
     "output_type": "execute_result"
    }
   ],
   "source": [
    "a=firstVariable.split(' ')\n",
    "a"
   ]
  },
  {
   "cell_type": "code",
   "execution_count": 12,
   "id": "51f01ace",
   "metadata": {},
   "outputs": [
    {
     "data": {
      "text/plain": [
       "'Hello World'"
      ]
     },
     "execution_count": 12,
     "metadata": {},
     "output_type": "execute_result"
    }
   ],
   "source": [
    "' '.join(a)"
   ]
  },
  {
   "cell_type": "code",
   "execution_count": 13,
   "id": "f03e7b27",
   "metadata": {},
   "outputs": [
    {
     "name": "stdout",
     "output_type": "stream",
     "text": [
      "01\n"
     ]
    }
   ],
   "source": [
    "print(\"0\" + \"1\")"
   ]
  },
  {
   "cell_type": "code",
   "execution_count": 14,
   "id": "f7622980",
   "metadata": {},
   "outputs": [
    {
     "data": {
      "text/plain": [
       "'000'"
      ]
     },
     "execution_count": 14,
     "metadata": {},
     "output_type": "execute_result"
    }
   ],
   "source": [
    "\"0\" * 3"
   ]
  },
  {
   "cell_type": "code",
   "execution_count": 15,
   "id": "a072fae3",
   "metadata": {},
   "outputs": [
    {
     "data": {
      "text/plain": [
       "'FizzBuzz'"
      ]
     },
     "execution_count": 15,
     "metadata": {},
     "output_type": "execute_result"
    }
   ],
   "source": [
    "# Bạn có thể cộng hai chuỗi với nhau\n",
    "\"Fizz\" + \"Buzz\""
   ]
  },
  {
   "cell_type": "code",
   "execution_count": null,
   "id": "9768368e",
   "metadata": {},
   "outputs": [],
   "source": []
  }
 ],
 "metadata": {
  "kernelspec": {
   "display_name": "Python 3 (ipykernel)",
   "language": "python",
   "name": "python3"
  },
  "language_info": {
   "codemirror_mode": {
    "name": "ipython",
    "version": 3
   },
   "file_extension": ".py",
   "mimetype": "text/x-python",
   "name": "python",
   "nbconvert_exporter": "python",
   "pygments_lexer": "ipython3",
   "version": "3.8.5"
  }
 },
 "nbformat": 4,
 "nbformat_minor": 5
}
