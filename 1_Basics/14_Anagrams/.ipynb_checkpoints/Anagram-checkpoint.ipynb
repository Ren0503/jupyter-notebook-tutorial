{
 "cells": [
  {
   "cell_type": "markdown",
   "id": "0659ec8d",
   "metadata": {},
   "source": [
    "# Anagram\n",
    "Anagram là gì?\n",
    "Anagram(đảo từ) là một từ hoặc cụm từ được hình thành bằng cách sắp xếp lại các chữ cái của một từ hoặc cụm từ khác nhau, thường sử dụng tất cả các chữ cái gốc chính xác một lần.\n",
    "\n",
    "Nhiệm vụ: Viết chương trình đưa vào một danh sách các từ và xuất ra danh sách có các từ là đảo ngữ của một từ khác trong danh sách.\n",
    "\n",
    "Có nhiều cách khác nhau để giải quyết vấn đề này, ở bài này đưa ra một vài cách tiếp cận khác nhau để giải quyết vấn đề này. Đối với mỗi cách tiếp cận bên dưới, trước tiên ta phải xác định một danh sách từ."
   ]
  },
  {
   "cell_type": "code",
   "execution_count": 1,
   "id": "e0bb653f",
   "metadata": {},
   "outputs": [],
   "source": [
    "word_list = ['percussion',\n",
    "             'supersonic',\n",
    "             'car',\n",
    "             'tree',\n",
    "             'boy',\n",
    "             'girl',\n",
    "             'arc']"
   ]
  },
  {
   "cell_type": "markdown",
   "id": "6e5236e1",
   "metadata": {},
   "source": [
    "## Cách 1: Dùng for"
   ]
  },
  {
   "cell_type": "code",
   "execution_count": 2,
   "id": "19af652b",
   "metadata": {},
   "outputs": [],
   "source": [
    "temp = word_list[0]"
   ]
  },
  {
   "cell_type": "code",
   "execution_count": 3,
   "id": "a001aa5a",
   "metadata": {},
   "outputs": [
    {
     "data": {
      "text/plain": [
       "['c', 'e', 'i', 'n', 'o', 'p', 'r', 's', 's', 'u']"
      ]
     },
     "execution_count": 3,
     "metadata": {},
     "output_type": "execute_result"
    }
   ],
   "source": [
    "sorted(temp)"
   ]
  },
  {
   "cell_type": "code",
   "execution_count": 4,
   "id": "ff83c85d",
   "metadata": {},
   "outputs": [
    {
     "data": {
      "text/plain": [
       "['percussion', 'supersonic', 'car', 'tree', 'boy', 'girl', 'arc']"
      ]
     },
     "execution_count": 4,
     "metadata": {},
     "output_type": "execute_result"
    }
   ],
   "source": [
    "word_list"
   ]
  },
  {
   "cell_type": "code",
   "execution_count": 5,
   "id": "c0293785",
   "metadata": {},
   "outputs": [],
   "source": [
    "# tạo một list\n",
    "anagram_list = []\n",
    "\n",
    "for word_1 in word_list: \n",
    "    for word_2 in word_list: \n",
    "        if word_1 != word_2 and (sorted(word_1)==sorted(word_2)):\n",
    "            anagram_list.append(word_1)"
   ]
  },
  {
   "cell_type": "code",
   "execution_count": 6,
   "id": "ce8846a1",
   "metadata": {},
   "outputs": [
    {
     "name": "stdout",
     "output_type": "stream",
     "text": [
      "['percussion', 'supersonic', 'car', 'arc']\n"
     ]
    }
   ],
   "source": [
    "print(anagram_list)"
   ]
  },
  {
   "cell_type": "code",
   "execution_count": 7,
   "id": "0af86808",
   "metadata": {},
   "outputs": [
    {
     "name": "stdout",
     "output_type": "stream",
     "text": [
      "['c', 'e', 'i', 'n', 'o', 'p', 'r', 's', 's', 'u']\n"
     ]
    }
   ],
   "source": [
    "print(sorted('percussion'))"
   ]
  },
  {
   "cell_type": "code",
   "execution_count": 8,
   "id": "ef512c33",
   "metadata": {},
   "outputs": [
    {
     "name": "stdout",
     "output_type": "stream",
     "text": [
      "['c', 'e', 'i', 'n', 'o', 'p', 'r', 's', 's', 'u']\n"
     ]
    }
   ],
   "source": [
    "print(sorted('supersonic'))"
   ]
  },
  {
   "cell_type": "markdown",
   "id": "943e97a7",
   "metadata": {},
   "source": [
    "## Cách 2: Dùng dictionary\n",
    "Sắp xếp danh sách trong Python là O(nlogn) so với O(n) bằng dictionary."
   ]
  },
  {
   "cell_type": "code",
   "execution_count": 9,
   "id": "1af9170e",
   "metadata": {},
   "outputs": [],
   "source": [
    "def freq(word):\n",
    "    freq_dict = {}\n",
    "    for char in word:\n",
    "        freq_dict[char] = freq_dict.get(char, 0) + 1\n",
    "    return freq_dict "
   ]
  },
  {
   "cell_type": "code",
   "execution_count": 10,
   "id": "837359e4",
   "metadata": {},
   "outputs": [
    {
     "name": "stdout",
     "output_type": "stream",
     "text": [
      "['percussion', 'supersonic', 'car', 'arc']\n"
     ]
    }
   ],
   "source": [
    "# tạo một list\n",
    "anagram_list = []\n",
    "for word_1 in word_list: \n",
    "    for word_2 in word_list: \n",
    "        if word_1 != word_2 and (freq(word_1) == freq(word_2)):\n",
    "            anagram_list.append(word_1)\n",
    "print(anagram_list)"
   ]
  },
  {
   "cell_type": "code",
   "execution_count": 11,
   "id": "9f6743ac",
   "metadata": {},
   "outputs": [
    {
     "name": "stdout",
     "output_type": "stream",
     "text": [
      "{'p': 1, 'e': 1, 'r': 1, 'c': 1, 'u': 1, 's': 2, 'i': 1, 'o': 1, 'n': 1}\n"
     ]
    }
   ],
   "source": [
    "print(freq('percussion'))"
   ]
  },
  {
   "cell_type": "code",
   "execution_count": 12,
   "id": "0d8e410b",
   "metadata": {},
   "outputs": [
    {
     "name": "stdout",
     "output_type": "stream",
     "text": [
      "{'s': 2, 'u': 1, 'p': 1, 'e': 1, 'r': 1, 'o': 1, 'n': 1, 'i': 1, 'c': 1}\n"
     ]
    }
   ],
   "source": [
    "print(freq('supersonic'))"
   ]
  },
  {
   "cell_type": "code",
   "execution_count": 13,
   "id": "ead4cc38",
   "metadata": {},
   "outputs": [
    {
     "data": {
      "text/plain": [
       "[('c', 1),\n",
       " ('e', 1),\n",
       " ('i', 1),\n",
       " ('n', 1),\n",
       " ('o', 1),\n",
       " ('p', 1),\n",
       " ('r', 1),\n",
       " ('s', 2),\n",
       " ('u', 1)]"
      ]
     },
     "execution_count": 13,
     "metadata": {},
     "output_type": "execute_result"
    }
   ],
   "source": [
    "sorted(list(freq('percussion').items()))"
   ]
  },
  {
   "cell_type": "code",
   "execution_count": 14,
   "id": "1b302420",
   "metadata": {},
   "outputs": [
    {
     "data": {
      "text/plain": [
       "[('c', 1),\n",
       " ('e', 1),\n",
       " ('i', 1),\n",
       " ('n', 1),\n",
       " ('o', 1),\n",
       " ('p', 1),\n",
       " ('r', 1),\n",
       " ('s', 2),\n",
       " ('u', 1)]"
      ]
     },
     "execution_count": 14,
     "metadata": {},
     "output_type": "execute_result"
    }
   ],
   "source": [
    "sorted(list(freq('supersonic').items()))"
   ]
  },
  {
   "cell_type": "code",
   "execution_count": null,
   "id": "7a60da5a",
   "metadata": {},
   "outputs": [],
   "source": []
  }
 ],
 "metadata": {
  "kernelspec": {
   "display_name": "Python 3 (ipykernel)",
   "language": "python",
   "name": "python3"
  },
  "language_info": {
   "codemirror_mode": {
    "name": "ipython",
    "version": 3
   },
   "file_extension": ".py",
   "mimetype": "text/x-python",
   "name": "python",
   "nbconvert_exporter": "python",
   "pygments_lexer": "ipython3",
   "version": "3.8.5"
  }
 },
 "nbformat": 4,
 "nbformat_minor": 5
}
