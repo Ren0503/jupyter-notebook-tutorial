{
 "cells": [
  {
   "cell_type": "markdown",
   "id": "0ba05eb3",
   "metadata": {},
   "source": [
    "# List\n",
    "\n",
    "List được viết trong cặp ngoặc vuông []"
   ]
  },
  {
   "cell_type": "code",
   "execution_count": 1,
   "id": "8e6db75e",
   "metadata": {},
   "outputs": [],
   "source": [
    "# Xác định danh sách\n",
    "z = [3, 7, 4, 2]"
   ]
  },
  {
   "cell_type": "markdown",
   "id": "0d55ee94",
   "metadata": {},
   "source": [
    "## Truy cập giá trị trong list"
   ]
  },
  {
   "cell_type": "code",
   "execution_count": 2,
   "id": "56928380",
   "metadata": {},
   "outputs": [
    {
     "data": {
      "text/plain": [
       "3"
      ]
     },
     "execution_count": 2,
     "metadata": {},
     "output_type": "execute_result"
    }
   ],
   "source": [
    "# Phần tử đầu tiên có chỉ số là 0\n",
    "z[0]"
   ]
  },
  {
   "cell_type": "code",
   "execution_count": 3,
   "id": "8fe3ed55",
   "metadata": {},
   "outputs": [
    {
     "data": {
      "text/plain": [
       "4"
      ]
     },
     "execution_count": 3,
     "metadata": {},
     "output_type": "execute_result"
    }
   ],
   "source": [
    "z[2]"
   ]
  },
  {
   "cell_type": "code",
   "execution_count": 4,
   "id": "edf17d9f",
   "metadata": {},
   "outputs": [
    {
     "data": {
      "text/plain": [
       "4"
      ]
     },
     "execution_count": 4,
     "metadata": {},
     "output_type": "execute_result"
    }
   ],
   "source": [
    "# Truy cập phần tử cuối cùng\n",
    "z[-2]"
   ]
  },
  {
   "cell_type": "markdown",
   "id": "c63b5089",
   "metadata": {},
   "source": [
    "## Tách list"
   ]
  },
  {
   "cell_type": "code",
   "execution_count": 5,
   "id": "0a663b68",
   "metadata": {},
   "outputs": [
    {
     "data": {
      "text/plain": [
       "[3, 7]"
      ]
     },
     "execution_count": 5,
     "metadata": {},
     "output_type": "execute_result"
    }
   ],
   "source": [
    "z[0:2]"
   ]
  },
  {
   "cell_type": "code",
   "execution_count": 6,
   "id": "dfe9f4dd",
   "metadata": {},
   "outputs": [
    {
     "data": {
      "text/plain": [
       "[3, 7, 4]"
      ]
     },
     "execution_count": 6,
     "metadata": {},
     "output_type": "execute_result"
    }
   ],
   "source": [
    "z[:3]"
   ]
  },
  {
   "cell_type": "code",
   "execution_count": 7,
   "id": "911ace9a",
   "metadata": {},
   "outputs": [
    {
     "data": {
      "text/plain": [
       "[7, 4, 2]"
      ]
     },
     "execution_count": 7,
     "metadata": {},
     "output_type": "execute_result"
    }
   ],
   "source": [
    "z[1:]"
   ]
  },
  {
   "cell_type": "code",
   "execution_count": null,
   "id": "bea85ac7",
   "metadata": {},
   "outputs": [],
   "source": []
  }
 ],
 "metadata": {
  "kernelspec": {
   "display_name": "Python 3 (ipykernel)",
   "language": "python",
   "name": "python3"
  },
  "language_info": {
   "codemirror_mode": {
    "name": "ipython",
    "version": 3
   },
   "file_extension": ".py",
   "mimetype": "text/x-python",
   "name": "python",
   "nbconvert_exporter": "python",
   "pygments_lexer": "ipython3",
   "version": "3.8.5"
  }
 },
 "nbformat": 4,
 "nbformat_minor": 5
}
