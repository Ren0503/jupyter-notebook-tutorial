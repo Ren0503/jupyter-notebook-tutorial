{
 "cells": [
  {
   "cell_type": "markdown",
   "id": "66a6a851",
   "metadata": {},
   "source": [
    "# Giải hệ phương trình tuyến tính với NumPy\n",
    "1a + 1b = 35 2a + 4b = 94\n",
    "\n",
    "A=$$\\begin{bmatrix} 1 & 1 \\\\ 2 & 4 \\end{bmatrix}$$\n",
    "\n",
    "X=$$\\begin{bmatrix} a \\\\ b \\end{bmatrix}$$\n",
    "\n",
    "B=$$\\begin{bmatrix} 35 \\\\ 94 \\end{bmatrix}$$\n",
    "\n",
    "$$\\begin{bmatrix} 1 & 1 \\\\ 2 & 4 \\end{bmatrix}$$ $$\\begin{bmatrix} a \\\\ b \\end{bmatrix}$$ = $$\\begin{bmatrix} 35 \\\\ 94 \\end{bmatrix}$$\n",
    "\n",
    "A**X** = B\n",
    "\n",
    "A-1 A**X** = A-1B\n",
    "\n",
    "**X** = A-1B"
   ]
  },
  {
   "cell_type": "code",
   "execution_count": 3,
   "id": "b81bd86f",
   "metadata": {},
   "outputs": [
    {
     "name": "stdout",
     "output_type": "stream",
     "text": [
      "[[23.]\n",
      " [12.]]\n"
     ]
    }
   ],
   "source": [
    "import numpy as np \n",
    "\n",
    "# Định nghĩa ma trận\n",
    "A = np.matrix([[1,1], [2,4]])\n",
    "B = np.matrix([[35], [94]])\n",
    "\n",
    "# Lấy nghịch đảo của A\n",
    "A_inverse = np.linalg.inv(A)\n",
    "\n",
    "# Tìm X\n",
    "X = A_inverse * B \n",
    "print(X)\n",
    "#http://docs.scipy.org/doc/numpy-1.10.1/reference/routines.linalg.html"
   ]
  },
  {
   "cell_type": "code",
   "execution_count": null,
   "id": "dc72a0fb",
   "metadata": {},
   "outputs": [],
   "source": []
  }
 ],
 "metadata": {
  "kernelspec": {
   "display_name": "Python 3 (ipykernel)",
   "language": "python",
   "name": "python3"
  },
  "language_info": {
   "codemirror_mode": {
    "name": "ipython",
    "version": 3
   },
   "file_extension": ".py",
   "mimetype": "text/x-python",
   "name": "python",
   "nbconvert_exporter": "python",
   "pygments_lexer": "ipython3",
   "version": "3.8.5"
  }
 },
 "nbformat": 4,
 "nbformat_minor": 5
}
