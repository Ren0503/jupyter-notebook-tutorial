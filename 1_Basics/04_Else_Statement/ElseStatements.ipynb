{
 "cells": [
  {
   "cell_type": "markdown",
   "id": "9e946c47",
   "metadata": {},
   "source": [
    "# Else Statements"
   ]
  },
  {
   "cell_type": "markdown",
   "id": "1a678688",
   "metadata": {},
   "source": [
    "Phải ở sau lệnh **if** hoặc **elif**. Chỉ được thực thi nếu câu lệnh if hay elif ở trên nó là sai."
   ]
  },
  {
   "cell_type": "code",
   "execution_count": 1,
   "id": "b069b0e5",
   "metadata": {},
   "outputs": [],
   "source": [
    "num = 1\n",
    "if num > 3 :\n",
    "    print(\"Hi\")"
   ]
  },
  {
   "cell_type": "code",
   "execution_count": 2,
   "id": "46053feb",
   "metadata": {},
   "outputs": [
    {
     "name": "stdout",
     "output_type": "stream",
     "text": [
      "number is not greater than 3\n"
     ]
    }
   ],
   "source": [
    "# sẽ thực thi lệnh bên trong else vì num không lớn hơn 3\n",
    "num = 1\n",
    "if num > 3 :\n",
    "    print(\"Hi\")\n",
    "else: \n",
    "    print(\"number is not greater than 3\")"
   ]
  },
  {
   "cell_type": "code",
   "execution_count": 3,
   "id": "247ad717",
   "metadata": {},
   "outputs": [
    {
     "name": "stdout",
     "output_type": "stream",
     "text": [
      "Hi\n"
     ]
    }
   ],
   "source": [
    "# sẽ thực thi lệnh bên trong if vì num lớn hơn 3\n",
    "num = 4\n",
    "if num > 3 :\n",
    "    print(\"Hi\")\n",
    "else: \n",
    "    print(\"number is not greater than 3\")"
   ]
  },
  {
   "cell_type": "markdown",
   "id": "304ddd1a",
   "metadata": {},
   "source": [
    "## Bài tập\n",
    "1. Gán num cho giá trị số nguyên.\n",
    "2. Kết hợp if else để viết chương trình xác định một số là số chẵn hay lẻ."
   ]
  },
  {
   "cell_type": "code",
   "execution_count": 4,
   "id": "36ae2c76",
   "metadata": {},
   "outputs": [
    {
     "name": "stdout",
     "output_type": "stream",
     "text": [
      "Your integer is odd\n"
     ]
    }
   ],
   "source": [
    "num = 3\n",
    "if num % 2 == 0:\n",
    "    print(\"Your integer is even\")\n",
    "else: \n",
    "    print(\"Your integer is odd\")"
   ]
  },
  {
   "cell_type": "code",
   "execution_count": null,
   "id": "4975bac3",
   "metadata": {},
   "outputs": [],
   "source": []
  }
 ],
 "metadata": {
  "kernelspec": {
   "display_name": "Python 3 (ipykernel)",
   "language": "python",
   "name": "python3"
  },
  "language_info": {
   "codemirror_mode": {
    "name": "ipython",
    "version": 3
   },
   "file_extension": ".py",
   "mimetype": "text/x-python",
   "name": "python",
   "nbconvert_exporter": "python",
   "pygments_lexer": "ipython3",
   "version": "3.8.5"
  }
 },
 "nbformat": 4,
 "nbformat_minor": 5
}
