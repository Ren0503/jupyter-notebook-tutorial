{
 "cells": [
  {
   "cell_type": "markdown",
   "id": "bdc8220c",
   "metadata": {},
   "source": [
    "# Vòng lặp While\n",
    "Vòng lặp while có nhiều điểm tương đồng với vòng lặp for, nếu muốn dừng vòng lặp ta phải đặt điều kiện là False."
   ]
  },
  {
   "cell_type": "code",
   "execution_count": 1,
   "id": "b2169f3b",
   "metadata": {},
   "outputs": [
    {
     "name": "stdout",
     "output_type": "stream",
     "text": [
      "0\n",
      "1\n",
      "2\n",
      "3\n",
      "4\n",
      "5\n"
     ]
    }
   ],
   "source": [
    "# Mỗi lần lặp, nó kiểm tra lại điều kiện count có lớn hơn 5 không.\n",
    "# cũng có thể dùng break để dừng vòng lặp tuỳ ý.\n",
    "count = 0\n",
    "while count <= 5:\n",
    "    print(count)\n",
    "    count = count + 1"
   ]
  },
  {
   "cell_type": "markdown",
   "id": "210572df",
   "metadata": {},
   "source": [
    "## break\n",
    "Sẽ dừng vòng lặp ngay lặp tức."
   ]
  },
  {
   "cell_type": "code",
   "execution_count": 3,
   "id": "1b8d0c4f",
   "metadata": {},
   "outputs": [
    {
     "name": "stdout",
     "output_type": "stream",
     "text": [
      "1\n",
      "2\n"
     ]
    }
   ],
   "source": [
    "count = 0\n",
    "while count <= 5:\n",
    "    if count == 2:\n",
    "        break\n",
    "    count += 1\n",
    "    print(count)"
   ]
  },
  {
   "cell_type": "code",
   "execution_count": 4,
   "id": "dc41154e",
   "metadata": {},
   "outputs": [
    {
     "name": "stdout",
     "output_type": "stream",
     "text": [
      "2\n",
      "3\n",
      "4\n",
      "5\n"
     ]
    }
   ],
   "source": [
    "x = 1\n",
    "while x % 5 != 0:\n",
    "    x += 1\n",
    "    print(x)"
   ]
  },
  {
   "cell_type": "markdown",
   "id": "1ad75da2",
   "metadata": {},
   "source": [
    "phạm vi hữu ích khi chúng ta biết số lần chúng ta muốn đi qua một vòng lặp\n",
    "bắt đầu từ 0 và đi lên nhưng không bao gồm 5"
   ]
  },
  {
   "cell_type": "code",
   "execution_count": 5,
   "id": "78e74f54",
   "metadata": {},
   "outputs": [
    {
     "data": {
      "text/plain": [
       "[0, 1, 2, 3, 4]"
      ]
     },
     "execution_count": 5,
     "metadata": {},
     "output_type": "execute_result"
    }
   ],
   "source": [
    "candidates = list(range(0, 5))\n",
    "candidates"
   ]
  },
  {
   "cell_type": "code",
   "execution_count": 6,
   "id": "80e98283",
   "metadata": {},
   "outputs": [
    {
     "name": "stdout",
     "output_type": "stream",
     "text": [
      "[1, 2, 3, 4]\n",
      "[2, 3, 4]\n",
      "[3, 4]\n",
      "[4]\n",
      "[]\n"
     ]
    }
   ],
   "source": [
    "while len(candidates) > 0: \n",
    "    first = candidates[0]\n",
    "    candidates.remove(first)\n",
    "    print(candidates)"
   ]
  },
  {
   "cell_type": "code",
   "execution_count": null,
   "id": "33859ac4",
   "metadata": {},
   "outputs": [],
   "source": []
  }
 ],
 "metadata": {
  "kernelspec": {
   "display_name": "Python 3 (ipykernel)",
   "language": "python",
   "name": "python3"
  },
  "language_info": {
   "codemirror_mode": {
    "name": "ipython",
    "version": 3
   },
   "file_extension": ".py",
   "mimetype": "text/x-python",
   "name": "python",
   "nbconvert_exporter": "python",
   "pygments_lexer": "ipython3",
   "version": "3.8.5"
  }
 },
 "nbformat": 4,
 "nbformat_minor": 5
}
