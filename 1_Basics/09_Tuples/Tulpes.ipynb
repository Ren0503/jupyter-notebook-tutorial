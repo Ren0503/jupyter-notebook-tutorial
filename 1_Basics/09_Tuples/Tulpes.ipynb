{
 "cells": [
  {
   "cell_type": "markdown",
   "id": "f16bad3b",
   "metadata": {},
   "source": [
    "# Tulpes\n",
    "Tulpe (bộ) là dạng cấu trúc tuần tự, giống như list(danh sách). Điểm khác biệt giữa tulpe và list nằm ở chỗ tulpe là bất biến (không thể thay đổi) còn list có thể thay đổi. Tulpe sử dụng cặp ngoặc đơn trong khi list dùng ngoặc vuông."
   ]
  },
  {
   "cell_type": "markdown",
   "id": "68436622",
   "metadata": {},
   "source": [
    "## Khởi tạo tulpe\n",
    "Có hai cách khởi tạo tulpe, cách 1 là tạo tulpe với () mà không có giá trị nào trong đó."
   ]
  },
  {
   "cell_type": "code",
   "execution_count": 1,
   "id": "698cacc3",
   "metadata": {},
   "outputs": [],
   "source": [
    "# Cách 1\n",
    "emptyTuple = ()"
   ]
  },
  {
   "cell_type": "markdown",
   "id": "cac0c6cc",
   "metadata": {},
   "source": [
    "Cách 2 là bạn tạo bằng hàm tulpe"
   ]
  },
  {
   "cell_type": "code",
   "execution_count": 2,
   "id": "221a2830",
   "metadata": {},
   "outputs": [],
   "source": [
    "# Cách 2\n",
    "emptyTuple = tuple()"
   ]
  },
  {
   "cell_type": "markdown",
   "id": "d1188495",
   "metadata": {},
   "source": [
    "Một tulpe - bộ giá trị có thể được khởi tạo bằng cách tạo một chuỗi các giá trị được phân tách bằng dấu phẩy. "
   ]
  },
  {
   "cell_type": "code",
   "execution_count": 3,
   "id": "c4fd6470",
   "metadata": {},
   "outputs": [],
   "source": [
    "# Cách 1\n",
    "z = (3, 7, 4, 2)\n",
    "\n",
    "# Cách 2 (tuples cũng có thể được tạo mà không cần ngoặc đơn)\n",
    "z = 3, 7, 4, 2"
   ]
  },
  {
   "cell_type": "markdown",
   "id": "6c0029ff",
   "metadata": {},
   "source": [
    "Điều quan trọng cần lưu ý nếu bạn muốn tạo một tulpe chỉ chứa một giá trị, bạn cần có dấu phẩy ở cuối mục của mình."
   ]
  },
  {
   "cell_type": "code",
   "execution_count": 4,
   "id": "63903e71",
   "metadata": {},
   "outputs": [],
   "source": [
    "# tuple với một giá trị\n",
    "tup1 = ('Michael',)\n",
    "\n",
    "# tuple với một giá trị\n",
    "tup2 = 'Michael', \n",
    "\n",
    "# Đây là chuỗi, KHÔNG phải tulpe.\n",
    "notTuple = ('Michael')"
   ]
  },
  {
   "cell_type": "markdown",
   "id": "9b29cd2d",
   "metadata": {},
   "source": [
    "## Truy cập giá trị trong Tulpe\n",
    "Mỗi giá trị trong tulpe đều được đánh chỉ mục. Giống như các ngôn ngữ lập trình khác, python cũng thực hiện đánh chỉ mục bắt đầu từ 0."
   ]
  },
  {
   "cell_type": "code",
   "execution_count": 5,
   "id": "83a4e80c",
   "metadata": {},
   "outputs": [
    {
     "name": "stdout",
     "output_type": "stream",
     "text": [
      "3\n"
     ]
    }
   ],
   "source": [
    "# Khởi tạo tuple\n",
    "z = (3, 7, 4, 2)\n",
    "\n",
    "# Truy cập phần tử đầu tiên trong tuple\n",
    "print(z[0])"
   ]
  },
  {
   "cell_type": "markdown",
   "id": "0afba539",
   "metadata": {},
   "source": [
    "Python còn hỗ trợ đánh chỉ mục âm. Chỉ mục âm bắt đầu từ cuối của tulpe. Thỉnh thoảng điều này sẽ đem lại lợi ích trong trường hợp bạn không biết độ dài của tulpe nhưng lại cần truy cập đến phần tử cuối cùng."
   ]
  },
  {
   "cell_type": "code",
   "execution_count": 6,
   "id": "3c2b43ad",
   "metadata": {},
   "outputs": [
    {
     "name": "stdout",
     "output_type": "stream",
     "text": [
      "2\n"
     ]
    }
   ],
   "source": [
    "# In phần tử cuối cùng\n",
    "print(z[-1])"
   ]
  },
  {
   "cell_type": "markdown",
   "id": "15122ffd",
   "metadata": {},
   "source": [
    "Dĩ nhiên bạn cũng có thể truy cập cùng phần tử đó bằng chỉ mục dương"
   ]
  },
  {
   "cell_type": "code",
   "execution_count": 7,
   "id": "e23921a2",
   "metadata": {},
   "outputs": [
    {
     "name": "stdout",
     "output_type": "stream",
     "text": [
      "2\n"
     ]
    }
   ],
   "source": [
    "print(z[3])"
   ]
  },
  {
   "cell_type": "markdown",
   "id": "4565319b",
   "metadata": {},
   "source": [
    "## Cắt tulpe\n",
    "Thao tác cắt(slice) trả về một tuple mới bao gồm các mục được yêu cầu. Điều này có ích khi muốn lấy tập con giá trị từ tulpe của bạn. Ví dụ bên dưới, nó sẽ trả về một tulpe với các mục từ chỉ số 0 đến trước chỉ số 2/\\."
   ]
  },
  {
   "cell_type": "code",
   "execution_count": 8,
   "id": "9f208ac9",
   "metadata": {},
   "outputs": [
    {
     "name": "stdout",
     "output_type": "stream",
     "text": [
      "(3, 7)\n"
     ]
    }
   ],
   "source": [
    "# Tạo một tuple\n",
    "z = (3, 7, 4, 2)\n",
    "\n",
    "# Nó sẽ bao gồm các chỉ mục từ trước dấu : cho đến sau dấu :, nhưng không bao gồm chỉ mục sau dấu :.\n",
    "print(z[0:2])"
   ]
  },
  {
   "cell_type": "code",
   "execution_count": 9,
   "id": "4b75e288",
   "metadata": {},
   "outputs": [
    {
     "name": "stdout",
     "output_type": "stream",
     "text": [
      "(3, 7, 4)\n"
     ]
    }
   ],
   "source": [
    "# Từ đấu đến trước chỉ mục 3.\n",
    "print(z[:3])"
   ]
  },
  {
   "cell_type": "markdown",
   "id": "5e59e0ee",
   "metadata": {},
   "source": [
    "Bạn cũng có thể làm với chỉ mục âm"
   ]
  },
  {
   "cell_type": "code",
   "execution_count": 10,
   "id": "0e3c1cfa",
   "metadata": {},
   "outputs": [
    {
     "name": "stdout",
     "output_type": "stream",
     "text": [
      "(3, 7, 4)\n"
     ]
    }
   ],
   "source": [
    "print(z[-4:-1])"
   ]
  },
  {
   "cell_type": "markdown",
   "id": "6e57247d",
   "metadata": {},
   "source": [
    "## Tulpe là bất biến\n",
    "Tuples là bất biến có nghĩa là sau khi khởi tạo một tuple, không thể thay đổi các mục riêng lẻ trong một tuple. Như bạn có thể thấy trong đoạn code bên dưới, bạn không thể cập nhật hoặc thay đổi giá trị của các mục tuple (điều này khác với List có thể thay đổi)."
   ]
  },
  {
   "cell_type": "code",
   "execution_count": 11,
   "id": "ec82c152",
   "metadata": {},
   "outputs": [
    {
     "ename": "TypeError",
     "evalue": "'tuple' object does not support item assignment",
     "output_type": "error",
     "traceback": [
      "\u001b[1;31m---------------------------------------------------------------------------\u001b[0m",
      "\u001b[1;31mTypeError\u001b[0m                                 Traceback (most recent call last)",
      "\u001b[1;32m~\\AppData\\Local\\Temp/ipykernel_14488/2662251050.py\u001b[0m in \u001b[0;36m<module>\u001b[1;34m\u001b[0m\n\u001b[0;32m      1\u001b[0m \u001b[0mz\u001b[0m \u001b[1;33m=\u001b[0m \u001b[1;33m(\u001b[0m\u001b[1;36m3\u001b[0m\u001b[1;33m,\u001b[0m \u001b[1;36m7\u001b[0m\u001b[1;33m,\u001b[0m \u001b[1;36m4\u001b[0m\u001b[1;33m,\u001b[0m \u001b[1;36m2\u001b[0m\u001b[1;33m)\u001b[0m\u001b[1;33m\u001b[0m\u001b[1;33m\u001b[0m\u001b[0m\n\u001b[0;32m      2\u001b[0m \u001b[1;33m\u001b[0m\u001b[0m\n\u001b[1;32m----> 3\u001b[1;33m \u001b[0mz\u001b[0m\u001b[1;33m[\u001b[0m\u001b[1;36m1\u001b[0m\u001b[1;33m]\u001b[0m \u001b[1;33m=\u001b[0m \u001b[1;34m\"fish\"\u001b[0m\u001b[1;33m\u001b[0m\u001b[1;33m\u001b[0m\u001b[0m\n\u001b[0m",
      "\u001b[1;31mTypeError\u001b[0m: 'tuple' object does not support item assignment"
     ]
    }
   ],
   "source": [
    "z = (3, 7, 4, 2)\n",
    "\n",
    "z[1] = \"fish\""
   ]
  },
  {
   "cell_type": "markdown",
   "id": "29b8c621",
   "metadata": {},
   "source": [
    "Mặc dù các tulpe là bất biến, nhưng có thể lấy các phần của các tulpe hiện có để tạo các tulpe mới như ví dụ sau minh họa."
   ]
  },
  {
   "cell_type": "code",
   "execution_count": 12,
   "id": "279017d3",
   "metadata": {},
   "outputs": [
    {
     "name": "stdout",
     "output_type": "stream",
     "text": [
      "('Python', 'SQL', 'R')\n"
     ]
    }
   ],
   "source": [
    "# Tạo tuple\n",
    "tup1 = ('Python', 'SQL')\n",
    "\n",
    "# Tạo một Tuple khác\n",
    "tup2 = ('R',)\n",
    "\n",
    "# Tạo tuple mới dựa trên các tulpe đã có\n",
    "new_tuple = tup1 + tup2;\n",
    "print(new_tuple)"
   ]
  },
  {
   "cell_type": "markdown",
   "id": "954c2ff0",
   "metadata": {},
   "source": [
    "## Phương thức Tulpe\n",
    "Trước khi bắt đầu phần này hãy tạo một tulpe trước"
   ]
  },
  {
   "cell_type": "code",
   "execution_count": 13,
   "id": "8ef91869",
   "metadata": {},
   "outputs": [],
   "source": [
    "animals = ('lama', 'sheep', 'lama', 48)"
   ]
  },
  {
   "cell_type": "markdown",
   "id": "cd6beaee",
   "metadata": {},
   "source": [
    "### Phương thức index\n",
    "Phương thức này trả về chỉ mục đầu tiên mà giá trị đó có trong tulpe"
   ]
  },
  {
   "cell_type": "code",
   "execution_count": 14,
   "id": "5b4705be",
   "metadata": {},
   "outputs": [
    {
     "name": "stdout",
     "output_type": "stream",
     "text": [
      "0\n"
     ]
    }
   ],
   "source": [
    "print(animals.index('lama'))"
   ]
  },
  {
   "cell_type": "markdown",
   "id": "d187ec90",
   "metadata": {},
   "source": [
    "### Phương thức count\n",
    "Phương thức này trả về số lần xuất hiện của một giá trị trong tulpe"
   ]
  },
  {
   "cell_type": "code",
   "execution_count": 15,
   "id": "83e10cf3",
   "metadata": {},
   "outputs": [
    {
     "name": "stdout",
     "output_type": "stream",
     "text": [
      "2\n"
     ]
    }
   ],
   "source": [
    "print(animals.count('lama'))"
   ]
  },
  {
   "cell_type": "markdown",
   "id": "abffcb24",
   "metadata": {},
   "source": [
    "## Lặp qua Tulpe\n",
    "Bạn có thể lặp qua các mục trong tulpe bằng cách sử dụng vòng lặp for."
   ]
  },
  {
   "cell_type": "code",
   "execution_count": 16,
   "id": "e9e2eb40",
   "metadata": {},
   "outputs": [
    {
     "name": "stdout",
     "output_type": "stream",
     "text": [
      "lama\n",
      "sheep\n",
      "lama\n",
      "48\n"
     ]
    }
   ],
   "source": [
    "for item in ('lama', 'sheep', 'lama', 48):\n",
    "    print(item)"
   ]
  },
  {
   "cell_type": "markdown",
   "id": "39beda28",
   "metadata": {},
   "source": [
    "## Giải nén\n",
    "Tulpe khá hữu ích cho giải nén tuần tự"
   ]
  },
  {
   "cell_type": "code",
   "execution_count": 17,
   "id": "fc9cdf0f",
   "metadata": {},
   "outputs": [
    {
     "name": "stdout",
     "output_type": "stream",
     "text": [
      "Value of x is 7, the value of y is 10.\n"
     ]
    }
   ],
   "source": [
    "x, y = (7, 10);\n",
    "print(\"Value of x is {}, the value of y is {}.\".format(x, y))"
   ]
  },
  {
   "cell_type": "markdown",
   "id": "ce492b19",
   "metadata": {},
   "source": [
    "## Liệt kê\n",
    "Hàm enumerate trả về một tulpe với số đếm (bắt đầu từ 0) và giá trị của mỗi lần lặp."
   ]
  },
  {
   "cell_type": "code",
   "execution_count": 18,
   "id": "69d490db",
   "metadata": {},
   "outputs": [
    {
     "name": "stdout",
     "output_type": "stream",
     "text": [
      "0 Steve\n",
      "1 Rachel\n",
      "2 Michael\n",
      "3 Monica\n"
     ]
    }
   ],
   "source": [
    "friends = ('Steve', 'Rachel', 'Michael', 'Monica')\n",
    "for index, friend in enumerate(friends):\n",
    "    print(index,friend)"
   ]
  },
  {
   "cell_type": "markdown",
   "id": "0e0bca43",
   "metadata": {},
   "source": [
    "# Lợi ích của Tulpe so với List\n",
    "List và Tulpe là các kiểu dữ liệu chuẩn của Python cho lưu trữ các giá trị tuần tự. Tulpe là bất biến trong khi list có thể thay đổi. Dưới đây là một số ưu điểm của Tulpe so với List (một phần lấy từ Stack Overflow).\n",
    "\n",
    "Tulpe nhanh hơn list. Nếu bạn đang làm việc một tập hợp giá trị không đổi và những gì cần làm là lặp lại nó. Hãy sử dụng tulpe thay vì list. Sự khác biết về hiệu suất có thể được đo lường bằng cách sử dụng thư viện timeit cho phép xác định thời gian code python của bạn. Đoạn code dưới đây chạy code cho mỗi cách tiếp cận một triệu lần và xuất ra thời gian tính bằng giây."
   ]
  },
  {
   "cell_type": "code",
   "execution_count": 19,
   "id": "0e3e07b6",
   "metadata": {},
   "outputs": [
    {
     "name": "stdout",
     "output_type": "stream",
     "text": [
      "Tuple time:  0.015750200000184122\n",
      "List time:  0.10708389999990686\n"
     ]
    }
   ],
   "source": [
    "import timeit \n",
    "print('Tuple time: ', timeit.timeit('x=(1,2,3,4,5,6,7,8,9,10,11,12)', number=1000000))\n",
    "print('List time: ', timeit.timeit('x=[1,2,3,4,5,6,7,8,9,10,11,12]', number=1000000))"
   ]
  },
  {
   "cell_type": "markdown",
   "id": "2f0b27e5",
   "metadata": {},
   "source": [
    "Các tulpe có thể được dùng làm các khoá từ điển (vì tulpe bao gồm các giá trị bất biến như chuỗi, số, hay các tulpe khác). Các list không bao giờ được dùng cho khoá từ điển vì chúng không bất biến. "
   ]
  },
  {
   "cell_type": "markdown",
   "id": "2f94bc84",
   "metadata": {},
   "source": [
    "### Tulpe cho khoá từ điển"
   ]
  },
  {
   "cell_type": "code",
   "execution_count": 20,
   "id": "502d902c",
   "metadata": {},
   "outputs": [
    {
     "name": "stdout",
     "output_type": "stream",
     "text": [
      "{('this', 'is'): 23, ('is', 'a'): 12, ('a', 'sentence'): 2}\n"
     ]
    }
   ],
   "source": [
    "bigramsTupleDict = {('this', 'is'): 23,\n",
    "                    ('is', 'a'): 12,\n",
    "                    ('a', 'sentence'): 2}\n",
    "\n",
    "print(bigramsTupleDict)"
   ]
  },
  {
   "cell_type": "markdown",
   "id": "e867b8fe",
   "metadata": {},
   "source": [
    "### List không thể dùng cho khoá từ điển"
   ]
  },
  {
   "cell_type": "code",
   "execution_count": 21,
   "id": "edd56c19",
   "metadata": {},
   "outputs": [
    {
     "ename": "TypeError",
     "evalue": "unhashable type: 'list'",
     "output_type": "error",
     "traceback": [
      "\u001b[1;31m---------------------------------------------------------------------------\u001b[0m",
      "\u001b[1;31mTypeError\u001b[0m                                 Traceback (most recent call last)",
      "\u001b[1;32m~\\AppData\\Local\\Temp/ipykernel_14488/3934426787.py\u001b[0m in \u001b[0;36m<module>\u001b[1;34m\u001b[0m\n\u001b[1;32m----> 1\u001b[1;33m bigramsListDict = {['this', 'is']: 23,\n\u001b[0m\u001b[0;32m      2\u001b[0m                    \u001b[1;33m[\u001b[0m\u001b[1;34m'is'\u001b[0m\u001b[1;33m,\u001b[0m \u001b[1;34m'a'\u001b[0m\u001b[1;33m]\u001b[0m\u001b[1;33m:\u001b[0m \u001b[1;36m12\u001b[0m\u001b[1;33m,\u001b[0m\u001b[1;33m\u001b[0m\u001b[1;33m\u001b[0m\u001b[0m\n\u001b[0;32m      3\u001b[0m                    ['a', 'sentence']: 2}\n\u001b[0;32m      4\u001b[0m \u001b[1;33m\u001b[0m\u001b[0m\n\u001b[0;32m      5\u001b[0m \u001b[0mprint\u001b[0m\u001b[1;33m(\u001b[0m\u001b[0mbigramsListDict\u001b[0m\u001b[1;33m)\u001b[0m\u001b[1;33m\u001b[0m\u001b[1;33m\u001b[0m\u001b[0m\n",
      "\u001b[1;31mTypeError\u001b[0m: unhashable type: 'list'"
     ]
    }
   ],
   "source": [
    "bigramsListDict = {['this', 'is']: 23,\n",
    "                   ['is', 'a']: 12,\n",
    "                   ['a', 'sentence']: 2}\n",
    "\n",
    "print(bigramsListDict)"
   ]
  },
  {
   "cell_type": "markdown",
   "id": "f3b6b7e6",
   "metadata": {},
   "source": [
    "### Tuples có thể là các giá trị trong một tập hợp"
   ]
  },
  {
   "cell_type": "code",
   "execution_count": 22,
   "id": "6e30df08",
   "metadata": {},
   "outputs": [
    {
     "name": "stdout",
     "output_type": "stream",
     "text": [
      "{('a', 'sentence'), ('this', 'is'), ('is', 'a')}\n"
     ]
    }
   ],
   "source": [
    "graphicDesigner = {('this', 'is'),\n",
    "                   ('is', 'a'),\n",
    "                   ('a', 'sentence')}\n",
    "print(graphicDesigner)"
   ]
  },
  {
   "cell_type": "markdown",
   "id": "16945f22",
   "metadata": {},
   "source": [
    "### List không thể là các giá trị trong một tập hợp"
   ]
  },
  {
   "cell_type": "code",
   "execution_count": 23,
   "id": "8944082e",
   "metadata": {},
   "outputs": [
    {
     "ename": "TypeError",
     "evalue": "unhashable type: 'list'",
     "output_type": "error",
     "traceback": [
      "\u001b[1;31m---------------------------------------------------------------------------\u001b[0m",
      "\u001b[1;31mTypeError\u001b[0m                                 Traceback (most recent call last)",
      "\u001b[1;32m~\\AppData\\Local\\Temp/ipykernel_14488/1336305468.py\u001b[0m in \u001b[0;36m<module>\u001b[1;34m\u001b[0m\n\u001b[1;32m----> 1\u001b[1;33m graphicDesigner = {['this', 'is'],\n\u001b[0m\u001b[0;32m      2\u001b[0m                    \u001b[1;33m[\u001b[0m\u001b[1;34m'is'\u001b[0m\u001b[1;33m,\u001b[0m \u001b[1;34m'a'\u001b[0m\u001b[1;33m]\u001b[0m\u001b[1;33m,\u001b[0m\u001b[1;33m\u001b[0m\u001b[1;33m\u001b[0m\u001b[0m\n\u001b[0;32m      3\u001b[0m                    ['a', 'sentence']}\n\u001b[0;32m      4\u001b[0m \u001b[0mprint\u001b[0m\u001b[1;33m(\u001b[0m\u001b[0mgraphicDesigner\u001b[0m\u001b[1;33m)\u001b[0m\u001b[1;33m\u001b[0m\u001b[1;33m\u001b[0m\u001b[0m\n",
      "\u001b[1;31mTypeError\u001b[0m: unhashable type: 'list'"
     ]
    }
   ],
   "source": [
    "graphicDesigner = {['this', 'is'],\n",
    "                   ['is', 'a'],\n",
    "                   ['a', 'sentence']}\n",
    "print(graphicDesigner)"
   ]
  },
  {
   "cell_type": "markdown",
   "id": "8de5d057",
   "metadata": {},
   "source": [
    "## Bài toán: Tạo chuỗi Fibonacci trong Python\n",
    "Dãy Fibonacci là một dãy số nguyên được đặc trưng bởi mọi số trong dãy đều là tổng của hai số đứng trước(trừ hai số đầu tiên). Theo định nghĩa, hai số đầu tiên trong dãy Fibonacci là 1 và 1 hoặc 0 và 1, tùy thuộc vào điểm bắt đầu đã chọn của dãy và mỗi số tiếp theo là tổng của hai cái trước."
   ]
  },
  {
   "cell_type": "code",
   "execution_count": 24,
   "id": "5aa1edb8",
   "metadata": {},
   "outputs": [
    {
     "name": "stdout",
     "output_type": "stream",
     "text": [
      "1 1 2 3 5 8 13 21 34 55\n"
     ]
    }
   ],
   "source": [
    "print(1, 1, 2, 3, 5, 8, 13, 21, 34, 55)"
   ]
  },
  {
   "cell_type": "markdown",
   "id": "7d7e172d",
   "metadata": {},
   "source": [
    "Sử dụng vòng lặp, để viết chương trình in ra 10 số đầu tiên trong dãy Fibonacci"
   ]
  },
  {
   "cell_type": "code",
   "execution_count": 25,
   "id": "0185c4d3",
   "metadata": {},
   "outputs": [
    {
     "name": "stdout",
     "output_type": "stream",
     "text": [
      "Fib(a):  1 b is:  1\n",
      "Fib(a):  1 b is:  2\n",
      "Fib(a):  2 b is:  3\n",
      "Fib(a):  3 b is:  5\n",
      "Fib(a):  5 b is:  8\n",
      "Fib(a):  8 b is:  13\n",
      "Fib(a):  13 b is:  21\n",
      "Fib(a):  21 b is:  34\n",
      "Fib(a):  34 b is:  55\n",
      "Fib(a):  55 b is:  89\n"
     ]
    }
   ],
   "source": [
    "a,b = 1,1\n",
    "for i in range(10):\n",
    "    print(\"Fib(a): \", a, \"b is: \", b)\n",
    "    a,b = b,a+b  "
   ]
  },
  {
   "cell_type": "code",
   "execution_count": null,
   "id": "a6b2c62c",
   "metadata": {},
   "outputs": [],
   "source": []
  }
 ],
 "metadata": {
  "kernelspec": {
   "display_name": "Python 3 (ipykernel)",
   "language": "python",
   "name": "python3"
  },
  "language_info": {
   "codemirror_mode": {
    "name": "ipython",
    "version": 3
   },
   "file_extension": ".py",
   "mimetype": "text/x-python",
   "name": "python",
   "nbconvert_exporter": "python",
   "pygments_lexer": "ipython3",
   "version": "3.8.5"
  }
 },
 "nbformat": 4,
 "nbformat_minor": 5
}
