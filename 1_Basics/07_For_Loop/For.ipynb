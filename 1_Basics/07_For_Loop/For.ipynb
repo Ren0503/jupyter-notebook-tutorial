{
 "cells": [
  {
   "cell_type": "markdown",
   "id": "c0d417b7",
   "metadata": {},
   "source": [
    "# Vòng lặp For\n",
    "Vòng lặp For là cách khá phổ biến để lặp qua tất cả phần tử của một đối tượng (vd như list).\n",
    "Bất kỳ đối tượng nào có một phương thức iterable đều có thể sử dụng for.\n",
    "\n",
    "Một đặc trưng trong code của python là các khối không nằm trong cặp ngoặc {}. Thay vào đó nó dùng thụt đầu dòng. Dòng trong một khối sẽ được thụt vào một tab hay 4 space. \n",
    "\n",
    "Cách này có vẻ lạ mắt, nhưng theo thời gian bạn sẽ yêu thích nó hơn."
   ]
  },
  {
   "cell_type": "code",
   "execution_count": 1,
   "id": "8b1659a9",
   "metadata": {},
   "outputs": [
    {
     "name": "stdout",
     "output_type": "stream",
     "text": [
      "23\n",
      "41\n",
      "12\n",
      "16\n",
      "7\n",
      "Hi\n"
     ]
    }
   ],
   "source": [
    "# Lệnh for trong python lặp qua tất cả thành phần của một chuỗi tuần tự,\n",
    "# thực thi các khối mỗi lần như vậy\n",
    "\n",
    "for number in [23, 41, 12, 16, 7]: \n",
    "    print(number)\n",
    "print('Hi')"
   ]
  },
  {
   "cell_type": "markdown",
   "id": "ed0aee1a",
   "metadata": {},
   "source": [
    "## Liệt kê"
   ]
  },
  {
   "cell_type": "markdown",
   "id": "2acec555",
   "metadata": {},
   "source": [
    "Trả về một bộ giá trị với số đếm cho mỗi lần lặp (mặc định bắt đầu từ 0) và các giá trị thu được qua việc lặp"
   ]
  },
  {
   "cell_type": "code",
   "execution_count": 1,
   "id": "fcee1040",
   "metadata": {},
   "outputs": [
    {
     "name": "stdout",
     "output_type": "stream",
     "text": [
      "0 steve\n",
      "1 rachel\n",
      "2 michael\n",
      "3 adam\n",
      "4 monica\n"
     ]
    }
   ],
   "source": [
    "friends = ['steve', 'rachel', 'michael', 'adam', 'monica']\n",
    "for index, friend in enumerate(friends):\n",
    "    print(index,friend)"
   ]
  },
  {
   "cell_type": "markdown",
   "id": "0116a31d",
   "metadata": {},
   "source": [
    "## Yêu cầu\n",
    "**Xoá dấu câu khỏi văn bản và chuyển nó về dạng một danh sách**"
   ]
  },
  {
   "cell_type": "code",
   "execution_count": 2,
   "id": "9e12497d",
   "metadata": {},
   "outputs": [],
   "source": [
    "text = '''On a dark desert highway, cool wind in my hair Warm smell of colitas, rising up through the air Up ahead in the distance, I saw a shimmering light My head grew heavy and my sight grew dim I had to stop for the night There she stood in the doorway; I heard the mission bell And I was thinking to myself, \"This could be Heaven or this could be Hell\" Then she lit up a candle and she showed me the way'''"
   ]
  },
  {
   "cell_type": "code",
   "execution_count": 3,
   "id": "d45f4a14",
   "metadata": {},
   "outputs": [
    {
     "name": "stdout",
     "output_type": "stream",
     "text": [
      "On a dark desert highway, cool wind in my hair Warm smell of colitas, rising up through the air Up ahead in the distance, I saw a shimmering light My head grew heavy and my sight grew dim I had to stop for the night There she stood in the doorway; I heard the mission bell And I was thinking to myself, \"This could be Heaven or this could be Hell\" Then she lit up a candle and she showed me the way\n"
     ]
    }
   ],
   "source": [
    "print(text)"
   ]
  },
  {
   "cell_type": "markdown",
   "id": "82cfc2dd",
   "metadata": {},
   "source": [
    "Cơ bản thì bất kỳ đối tượng nào có phương thức iterable đều có thể sử dụng vòng lặp for. Kể cả chuỗi, mặc dùng nó không có phương thức iterable - nhưng ta sẽ không bàn về điều này ở đây. Phương thức iterable cơ bản có nghĩa là dữ liệu có thể biểu diễn dưới dạng danh sách, trong đó có nhiều giá trị theo một trật tự nhất định."
   ]
  },
  {
   "cell_type": "code",
   "execution_count": 4,
   "id": "fdd62325",
   "metadata": {},
   "outputs": [
    {
     "name": "stdout",
     "output_type": "stream",
     "text": [
      "On a dark desert highway  cool wind in my hair Warm smell of colitas  rising up through the air Up ahead in the distance  I saw a shimmering light My head grew heavy and my sight grew dim I had to stop for the night There she stood in the doorway  I heard the mission bell And I was thinking to myself   This could be Heaven or this could be Hell  Then she lit up a candle and she showed me the way\n"
     ]
    }
   ],
   "source": [
    "for char in '-.,;\\n\"\\'':\n",
    "    text = text.replace(char,' ')\n",
    "print(text)"
   ]
  },
  {
   "cell_type": "code",
   "execution_count": 5,
   "id": "bd123f20",
   "metadata": {},
   "outputs": [
    {
     "data": {
      "text/plain": [
       "['On',\n",
       " 'a',\n",
       " 'dark',\n",
       " 'desert',\n",
       " 'highway',\n",
       " '',\n",
       " 'cool',\n",
       " 'wind',\n",
       " 'in',\n",
       " 'my',\n",
       " 'hair',\n",
       " 'Warm',\n",
       " 'smell',\n",
       " 'of',\n",
       " 'colitas',\n",
       " '',\n",
       " 'rising',\n",
       " 'up',\n",
       " 'through',\n",
       " 'the']"
      ]
     },
     "execution_count": 5,
     "metadata": {},
     "output_type": "execute_result"
    }
   ],
   "source": [
    "# Để chuyển đổi chuỗi sang danh sách\n",
    "# Mỗi phần tử sẽ bị tách ra dựa vào space\n",
    "text.split(' ')[0:20]"
   ]
  },
  {
   "cell_type": "code",
   "execution_count": 6,
   "id": "e58a8d2b",
   "metadata": {},
   "outputs": [
    {
     "data": {
      "text/plain": [
       "0"
      ]
     },
     "execution_count": 6,
     "metadata": {},
     "output_type": "execute_result"
    }
   ],
   "source": [
    "# Nếu bạn không muốn có một chuỗi rỗng nào\n",
    "# tức những chuỗi có độ dài bằng 0\n",
    "len('')"
   ]
  },
  {
   "cell_type": "code",
   "execution_count": 7,
   "id": "c31dac48",
   "metadata": {},
   "outputs": [],
   "source": [
    "# Tạo danh sách mới không có từ nào trong đó\n",
    "cleaned_list = []"
   ]
  },
  {
   "cell_type": "code",
   "execution_count": 8,
   "id": "0af7946c",
   "metadata": {},
   "outputs": [],
   "source": [
    "for word in text.split(' '): \n",
    "    word_length = len(word)\n",
    "    if word_length > 0:\n",
    "        cleaned_list.append(word)"
   ]
  },
  {
   "cell_type": "code",
   "execution_count": 9,
   "id": "259f3e16",
   "metadata": {},
   "outputs": [
    {
     "data": {
      "text/plain": [
       "['On',\n",
       " 'a',\n",
       " 'dark',\n",
       " 'desert',\n",
       " 'highway',\n",
       " 'cool',\n",
       " 'wind',\n",
       " 'in',\n",
       " 'my',\n",
       " 'hair',\n",
       " 'Warm',\n",
       " 'smell',\n",
       " 'of',\n",
       " 'colitas',\n",
       " 'rising',\n",
       " 'up',\n",
       " 'through',\n",
       " 'the',\n",
       " 'air',\n",
       " 'Up']"
      ]
     },
     "execution_count": 9,
     "metadata": {},
     "output_type": "execute_result"
    }
   ],
   "source": [
    "cleaned_list[0:20]"
   ]
  },
  {
   "cell_type": "markdown",
   "id": "d5f24033",
   "metadata": {},
   "source": [
    "## Continue\n",
    "câu lệnh continue sẽ chuyển sang lần lặp tiếp theo của vòng lặp.\n",
    "\n",
    "continue được sử dụng để bỏ qua các giá trị nhất định, nhưng không thoát ra khỏi vòng lặp"
   ]
  },
  {
   "cell_type": "code",
   "execution_count": 10,
   "id": "666a805f",
   "metadata": {},
   "outputs": [
    {
     "data": {
      "text/plain": [
       "['a',\n",
       " 'dark',\n",
       " 'desert',\n",
       " 'highway',\n",
       " 'cool',\n",
       " 'wind',\n",
       " 'in',\n",
       " 'my',\n",
       " 'hair',\n",
       " 'Warm',\n",
       " 'smell',\n",
       " 'of',\n",
       " 'colitas',\n",
       " 'rising',\n",
       " 'up',\n",
       " 'through',\n",
       " 'the',\n",
       " 'air',\n",
       " 'Up']"
      ]
     },
     "execution_count": 10,
     "metadata": {},
     "output_type": "execute_result"
    }
   ],
   "source": [
    "cleaned_list = []\n",
    "\n",
    "for word in text.split(' '): \n",
    "    if word == '':\n",
    "        continue\n",
    "    cleaned_list.append(word)\n",
    "cleaned_list[1:20]"
   ]
  },
  {
   "cell_type": "markdown",
   "id": "4c3866ab",
   "metadata": {},
   "source": [
    "## Break\n",
    "lệnh break dùng để dừng hoàn toàn vòng lặp"
   ]
  },
  {
   "cell_type": "code",
   "execution_count": 11,
   "id": "bfaf11b3",
   "metadata": {},
   "outputs": [],
   "source": [
    "cleaned_list = []"
   ]
  },
  {
   "cell_type": "code",
   "execution_count": 12,
   "id": "8a0eb150",
   "metadata": {},
   "outputs": [
    {
     "name": "stdout",
     "output_type": "stream",
     "text": [
      "I found the word I was looking for\n"
     ]
    },
    {
     "data": {
      "text/plain": [
       "['On', 'a', 'dark']"
      ]
     },
     "execution_count": 12,
     "metadata": {},
     "output_type": "execute_result"
    }
   ],
   "source": [
    "for word in text.split(' '): \n",
    "    if word == 'desert':\n",
    "        print('I found the word I was looking for')\n",
    "        break\n",
    "    cleaned_list.append(word)\n",
    "cleaned_list"
   ]
  },
  {
   "cell_type": "markdown",
   "id": "79497254",
   "metadata": {},
   "source": [
    "## Bài toán\n",
    "Viết chương trình Python đi qua các số nguyên từ 1 đến 50 (sử dụng vòng lặp for). Đối với một số nguyên chẵn, hãy thêm nó vào danh sách even_numbers. Đối với một số nguyên là số lẻ, hãy thêm nó vào danh sách odd_numbers."
   ]
  },
  {
   "cell_type": "code",
   "execution_count": 13,
   "id": "d184cb0d",
   "metadata": {},
   "outputs": [],
   "source": [
    "# Tạo danh sách trống để thêm các số chẵn, lẻ\n",
    "even_numbers = []\n",
    "odd_numbers = []\n",
    "\n",
    "for number in range(1,51):\n",
    "    if number % 2 == 0:\n",
    "        even_numbers.append(number)\n",
    "    else: \n",
    "        odd_numbers.append(number) "
   ]
  },
  {
   "cell_type": "code",
   "execution_count": 14,
   "id": "8892ddef",
   "metadata": {},
   "outputs": [
    {
     "name": "stdout",
     "output_type": "stream",
     "text": [
      "Even Numbers:  [2, 4, 6, 8, 10, 12, 14, 16, 18, 20, 22, 24, 26, 28, 30, 32, 34, 36, 38, 40, 42, 44, 46, 48, 50]\n"
     ]
    }
   ],
   "source": [
    "print(\"Even Numbers: \", even_numbers)"
   ]
  },
  {
   "cell_type": "code",
   "execution_count": 15,
   "id": "42de5d0f",
   "metadata": {},
   "outputs": [
    {
     "name": "stdout",
     "output_type": "stream",
     "text": [
      "Odd Numbers:  [1, 3, 5, 7, 9, 11, 13, 15, 17, 19, 21, 23, 25, 27, 29, 31, 33, 35, 37, 39, 41, 43, 45, 47, 49]\n"
     ]
    }
   ],
   "source": [
    "print(\"Odd Numbers: \", odd_numbers)"
   ]
  },
  {
   "cell_type": "code",
   "execution_count": null,
   "id": "b228317e",
   "metadata": {},
   "outputs": [],
   "source": []
  }
 ],
 "metadata": {
  "kernelspec": {
   "display_name": "Python 3 (ipykernel)",
   "language": "python",
   "name": "python3"
  },
  "language_info": {
   "codemirror_mode": {
    "name": "ipython",
    "version": 3
   },
   "file_extension": ".py",
   "mimetype": "text/x-python",
   "name": "python",
   "nbconvert_exporter": "python",
   "pygments_lexer": "ipython3",
   "version": "3.8.5"
  }
 },
 "nbformat": 4,
 "nbformat_minor": 5
}
