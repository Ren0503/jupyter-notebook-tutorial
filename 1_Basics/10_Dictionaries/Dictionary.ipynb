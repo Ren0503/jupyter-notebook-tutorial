{
 "cells": [
  {
   "cell_type": "markdown",
   "id": "99b862d4",
   "metadata": {},
   "source": [
    "# Dictionary\n",
    "Dictionary là một kiểu cấu trúc dữ liệu phi trật tự trong python. Nó lưu trữ các giá trị dạng key và value(tương tự JSON). \n",
    "\n",
    "- Value có thể là bất kỳ thứ gì (danh sách, hàm, chuỗi,...)\n",
    "- Key phải bất biến như số, chuỗi, bộ.\n",
    "\n",
    "## Ví dụ"
   ]
  },
  {
   "cell_type": "code",
   "execution_count": 1,
   "id": "ba74d481",
   "metadata": {},
   "outputs": [],
   "source": [
    "# Xác định dictionary\n",
    "webstersDict = {'person': 'a human being, whether an adult or child', 'marathon': 'a running race that is about 26 miles', 'resist': ' to remain strong against the force or effect of (something)', 'run': 'to move with haste; act quickly'}"
   ]
  },
  {
   "cell_type": "code",
   "execution_count": 2,
   "id": "b40c0558",
   "metadata": {},
   "outputs": [
    {
     "data": {
      "text/plain": [
       "{'person': 'a human being, whether an adult or child',\n",
       " 'marathon': 'a running race that is about 26 miles',\n",
       " 'resist': ' to remain strong against the force or effect of (something)',\n",
       " 'run': 'to move with haste; act quickly'}"
      ]
     },
     "execution_count": 2,
     "metadata": {},
     "output_type": "execute_result"
    }
   ],
   "source": [
    "webstersDict"
   ]
  },
  {
   "cell_type": "markdown",
   "id": "52c2f8f0",
   "metadata": {},
   "source": [
    "## Truy cập giá trị trong Dictionary"
   ]
  },
  {
   "cell_type": "code",
   "execution_count": 3,
   "id": "52f310fc",
   "metadata": {},
   "outputs": [
    {
     "data": {
      "text/plain": [
       "'a running race that is about 26 miles'"
      ]
     },
     "execution_count": 3,
     "metadata": {},
     "output_type": "execute_result"
    }
   ],
   "source": [
    "webstersDict['marathon']"
   ]
  },
  {
   "cell_type": "markdown",
   "id": "8eb9b26f",
   "metadata": {},
   "source": [
    "## Cập nhật Dictionary"
   ]
  },
  {
   "cell_type": "code",
   "execution_count": 4,
   "id": "211bac0e",
   "metadata": {},
   "outputs": [
    {
     "data": {
      "text/plain": [
       "'an external covering for the human foot'"
      ]
     },
     "execution_count": 4,
     "metadata": {},
     "output_type": "execute_result"
    }
   ],
   "source": [
    "# thêm một cặp key-value vào dictionary\n",
    "webstersDict['shoe'] = 'an external covering for the human foot'\n",
    "\n",
    "# trả về giá trị cho key 'shoe'\n",
    "webstersDict['shoe']"
   ]
  },
  {
   "cell_type": "code",
   "execution_count": 5,
   "id": "8f1f4dc8",
   "metadata": {},
   "outputs": [
    {
     "data": {
      "text/plain": [
       "{'person': 'a human being, whether an adult or child',\n",
       " 'marathon': 'a running race that is about 26 miles',\n",
       " 'resist': ' to remain strong against the force or effect of (something)',\n",
       " 'run': 'to move with haste; act quickly',\n",
       " 'shoe': 'an external covering for the human foot, usually of leather and consisting of a more or less stiff or heavy sole and a lighter upper part ending a short distance above, at, or below the ankle.',\n",
       " 'shirt': 'a long- or short-sleeved garment for the upper part of the body'}"
      ]
     },
     "execution_count": 5,
     "metadata": {},
     "output_type": "execute_result"
    }
   ],
   "source": [
    "# phương thức update, cập nhật hoặc thêm nhiều hơn một cặp key-value cùng lúc\n",
    "webstersDict.update({'shirt': 'a long- or short-sleeved garment for the upper part of the body'\n",
    "                     , 'shoe': 'an external covering for the human foot, usually of leather and consisting of a more or less stiff or heavy sole and a lighter upper part ending a short distance above, at, or below the ankle.'})\n",
    "webstersDict"
   ]
  },
  {
   "cell_type": "code",
   "execution_count": 6,
   "id": "e26c32ec",
   "metadata": {},
   "outputs": [
    {
     "data": {
      "text/plain": [
       "{'person': 'a human being, whether an adult or child',\n",
       " 'marathon': 'a running race that is about 26 miles',\n",
       " 'run': 'to move with haste; act quickly',\n",
       " 'shoe': 'an external covering for the human foot, usually of leather and consisting of a more or less stiff or heavy sole and a lighter upper part ending a short distance above, at, or below the ankle.',\n",
       " 'shirt': 'a long- or short-sleeved garment for the upper part of the body'}"
      ]
     },
     "execution_count": 6,
     "metadata": {},
     "output_type": "execute_result"
    }
   ],
   "source": [
    "# Xoá key khỏi dictionary\n",
    "del webstersDict['resist']\n",
    "webstersDict"
   ]
  },
  {
   "cell_type": "markdown",
   "id": "3c059dff",
   "metadata": {},
   "source": [
    "### Không phải tất cả mọi thứ đều có thể trở thành Key\n",
    "Chỉ những đối tượng bất biến mới có thể dùng để làm key. List không thể những tulpe, string, number có thể"
   ]
  },
  {
   "cell_type": "code",
   "execution_count": 7,
   "id": "16b7541a",
   "metadata": {},
   "outputs": [
    {
     "ename": "TypeError",
     "evalue": "unhashable type: 'list'",
     "output_type": "error",
     "traceback": [
      "\u001b[1;31m---------------------------------------------------------------------------\u001b[0m",
      "\u001b[1;31mTypeError\u001b[0m                                 Traceback (most recent call last)",
      "\u001b[1;32m~\\AppData\\Local\\Temp/ipykernel_7176/191784425.py\u001b[0m in \u001b[0;36m<module>\u001b[1;34m\u001b[0m\n\u001b[1;32m----> 1\u001b[1;33m \u001b[0mwebstersDict\u001b[0m\u001b[1;33m[\u001b[0m\u001b[1;33m[\u001b[0m\u001b[1;34m'sock'\u001b[0m\u001b[1;33m]\u001b[0m\u001b[1;33m]\u001b[0m \u001b[1;33m=\u001b[0m \u001b[1;34m'a short stocking usually reaching to the calf or just above the ankle.'\u001b[0m\u001b[1;33m\u001b[0m\u001b[1;33m\u001b[0m\u001b[0m\n\u001b[0m",
      "\u001b[1;31mTypeError\u001b[0m: unhashable type: 'list'"
     ]
    }
   ],
   "source": [
    "webstersDict[['sock']] = 'a short stocking usually reaching to the calf or just above the ankle.'"
   ]
  },
  {
   "cell_type": "markdown",
   "id": "0dfa600b",
   "metadata": {},
   "source": [
    "### Trả về giá trị của key được cho với phương thức get\n",
    "Điều này rất có ý nghĩa cho việc đếm từ"
   ]
  },
  {
   "cell_type": "code",
   "execution_count": 8,
   "id": "83eff044",
   "metadata": {},
   "outputs": [],
   "source": [
    "storyCount = {'is': 100, 'the': 90, 'Michael': 12, 'runs': 5}"
   ]
  },
  {
   "cell_type": "code",
   "execution_count": 9,
   "id": "149605c5",
   "metadata": {},
   "outputs": [
    {
     "data": {
      "text/plain": [
       "{'is': 100, 'the': 90, 'Michael': 12, 'runs': 5}"
      ]
     },
     "execution_count": 9,
     "metadata": {},
     "output_type": "execute_result"
    }
   ],
   "source": [
    "storyCount"
   ]
  },
  {
   "cell_type": "code",
   "execution_count": 10,
   "id": "1bf468e6",
   "metadata": {},
   "outputs": [
    {
     "ename": "KeyError",
     "evalue": "'run'",
     "output_type": "error",
     "traceback": [
      "\u001b[1;31m---------------------------------------------------------------------------\u001b[0m",
      "\u001b[1;31mKeyError\u001b[0m                                  Traceback (most recent call last)",
      "\u001b[1;32m~\\AppData\\Local\\Temp/ipykernel_7176/3273392746.py\u001b[0m in \u001b[0;36m<module>\u001b[1;34m\u001b[0m\n\u001b[0;32m      1\u001b[0m \u001b[1;31m# lỗi đối với các key không tồn tại\u001b[0m\u001b[1;33m\u001b[0m\u001b[1;33m\u001b[0m\u001b[1;33m\u001b[0m\u001b[0m\n\u001b[1;32m----> 2\u001b[1;33m \u001b[0mstoryCount\u001b[0m\u001b[1;33m[\u001b[0m\u001b[1;34m'run'\u001b[0m\u001b[1;33m]\u001b[0m\u001b[1;33m\u001b[0m\u001b[1;33m\u001b[0m\u001b[0m\n\u001b[0m",
      "\u001b[1;31mKeyError\u001b[0m: 'run'"
     ]
    }
   ],
   "source": [
    "# lỗi đối với các key không tồn tại\n",
    "storyCount['run']"
   ]
  },
  {
   "cell_type": "code",
   "execution_count": 11,
   "id": "eb77498e",
   "metadata": {},
   "outputs": [
    {
     "data": {
      "text/plain": [
       "12"
      ]
     },
     "execution_count": 11,
     "metadata": {},
     "output_type": "execute_result"
    }
   ],
   "source": [
    "# nếu key không tồn tại,\n",
    "# chỉ định giá trị mặc định cho chúng\n",
    "# trả về giá trị của key nếu chúng có trong dictionary\n",
    "# ngược lại trả về giá trị mặc định mà bạn có\n",
    "storyCount.get('Michael', 0)"
   ]
  },
  {
   "cell_type": "code",
   "execution_count": 12,
   "id": "63e49b92",
   "metadata": {},
   "outputs": [
    {
     "name": "stdout",
     "output_type": "stream",
     "text": [
      "None\n"
     ]
    }
   ],
   "source": [
    "# khi bạn không thiết lập giá trị mặc định cho key không tồn tại,\n",
    "# nó sẽ mặc định là none\n",
    "print(storyCount.get('run'))"
   ]
  },
  {
   "cell_type": "code",
   "execution_count": 13,
   "id": "68182de7",
   "metadata": {},
   "outputs": [
    {
     "name": "stdout",
     "output_type": "stream",
     "text": [
      "0\n"
     ]
    }
   ],
   "source": [
    "# tạo giá trị mặc định cho key không tồn tại là 0\n",
    "print(storyCount.get('run', 0))"
   ]
  },
  {
   "cell_type": "markdown",
   "id": "ef14dc18",
   "metadata": {},
   "source": [
    "### Xoá key những vẫn trả về giá trị"
   ]
  },
  {
   "cell_type": "code",
   "execution_count": 14,
   "id": "c8df33f7",
   "metadata": {},
   "outputs": [
    {
     "name": "stdout",
     "output_type": "stream",
     "text": [
      "90\n"
     ]
    }
   ],
   "source": [
    "count = storyCount.pop('the')\n",
    "print(count)"
   ]
  },
  {
   "cell_type": "markdown",
   "id": "26f7f274",
   "metadata": {},
   "source": [
    "## Lặp qua Dictionary"
   ]
  },
  {
   "cell_type": "code",
   "execution_count": 15,
   "id": "365172da",
   "metadata": {},
   "outputs": [
    {
     "name": "stdout",
     "output_type": "stream",
     "text": [
      "dict_keys(['is', 'Michael', 'runs'])\n",
      "dict_values([100, 12, 5])\n"
     ]
    }
   ],
   "source": [
    "# trả về keys trong dictionary\n",
    "print(storyCount.keys())\n",
    "\n",
    "# trả về values trong dictionary\n",
    "print(storyCount.values())"
   ]
  },
  {
   "cell_type": "code",
   "execution_count": 16,
   "id": "46646631",
   "metadata": {},
   "outputs": [
    {
     "name": "stdout",
     "output_type": "stream",
     "text": [
      "is\n",
      "Michael\n",
      "runs\n"
     ]
    }
   ],
   "source": [
    "# lặp qua keys\n",
    "for key in storyCount: \n",
    "    print(key)"
   ]
  },
  {
   "cell_type": "code",
   "execution_count": 17,
   "id": "d11c8982",
   "metadata": {},
   "outputs": [
    {
     "name": "stdout",
     "output_type": "stream",
     "text": [
      "person a human being, whether an adult or child\n",
      "marathon a running race that is about 26 miles\n",
      "run to move with haste; act quickly\n",
      "shoe an external covering for the human foot, usually of leather and consisting of a more or less stiff or heavy sole and a lighter upper part ending a short distance above, at, or below the ankle.\n",
      "shirt a long- or short-sleeved garment for the upper part of the body\n"
     ]
    }
   ],
   "source": [
    "# lặp qua cả value và key\n",
    "for key, value in webstersDict.items():\n",
    "    print(key, value)"
   ]
  },
  {
   "cell_type": "code",
   "execution_count": null,
   "id": "0069308d",
   "metadata": {},
   "outputs": [],
   "source": []
  }
 ],
 "metadata": {
  "kernelspec": {
   "display_name": "Python 3 (ipykernel)",
   "language": "python",
   "name": "python3"
  },
  "language_info": {
   "codemirror_mode": {
    "name": "ipython",
    "version": 3
   },
   "file_extension": ".py",
   "mimetype": "text/x-python",
   "name": "python",
   "nbconvert_exporter": "python",
   "pygments_lexer": "ipython3",
   "version": "3.8.5"
  }
 },
 "nbformat": 4,
 "nbformat_minor": 5
}
